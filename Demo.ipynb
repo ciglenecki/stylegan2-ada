{
 "cells": [
  {
   "cell_type": "markdown",
   "id": "0381ea91",
   "metadata": {},
   "source": [
    "# DU2 Demo\n",
    "\n",
    "## MetFaces model inference"
   ]
  },
  {
   "cell_type": "code",
   "execution_count": null,
   "id": "60072d68",
   "metadata": {},
   "outputs": [],
   "source": [
    "from PIL import Image\n",
    "import matplotlib.pyplot as plt\n",
    "%matplotlib inline"
   ]
  },
  {
   "cell_type": "code",
   "execution_count": null,
   "id": "c0d728a3",
   "metadata": {
    "scrolled": false
   },
   "outputs": [],
   "source": [
    "img = Image.open('./data/processed/align-slika1.png')\n",
    "plt.imshow(img)\n",
    "plt.xticks([])\n",
    "plt.yticks([])\n",
    "plt.show()"
   ]
  },
  {
   "cell_type": "code",
   "execution_count": null,
   "id": "1bab90c6",
   "metadata": {
    "scrolled": true
   },
   "outputs": [],
   "source": [
    "!python ./nvidia-stylegan2-ada/projector.py --outdir=./data/outputs/img5 --target=./data/processed/align-slika1.png \\\n",
    "--network=./models/metfaces_kimg_40.pkl --num-steps 150"
   ]
  },
  {
   "cell_type": "code",
   "execution_count": null,
   "id": "c08a57c6",
   "metadata": {
    "scrolled": false
   },
   "outputs": [],
   "source": [
    "img = Image.open('./data/outputs/img5/proj_303.png')\n",
    "plt.imshow(img)\n",
    "plt.xticks([])\n",
    "plt.yticks([])\n",
    "plt.show()"
   ]
  },
  {
   "cell_type": "markdown",
   "id": "b7ef670a",
   "metadata": {},
   "source": [
    "## Interpolation between 2 faces"
   ]
  },
  {
   "cell_type": "code",
   "execution_count": null,
   "id": "9322fa26",
   "metadata": {
    "scrolled": false
   },
   "outputs": [],
   "source": [
    "from ipywidgets import *\n",
    "\n",
    "%matplotlib notebook\n",
    "\n",
    "!jupyter nbextension enable --py --sys-prefix widgetsnbextension\n",
    "\n",
    "%run ./src/interpolation/interpolate_2_imgs.py \\\n",
    "--img1_latent ./data/outputs/img4/projected_w_303.npz \\\n",
    "--img2_latent ./data/outputs/img3/projected_w_303.npz"
   ]
  }
 ],
 "metadata": {
  "kernelspec": {
   "display_name": "Python 3 (ipykernel)",
   "language": "python",
   "name": "python3"
  },
  "language_info": {
   "codemirror_mode": {
    "name": "ipython",
    "version": 3
   },
   "file_extension": ".py",
   "mimetype": "text/x-python",
   "name": "python",
   "nbconvert_exporter": "python",
   "pygments_lexer": "ipython3",
   "version": "3.9.12"
  }
 },
 "nbformat": 4,
 "nbformat_minor": 5
}
